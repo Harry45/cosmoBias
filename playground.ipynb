{
 "cells": [
  {
   "cell_type": "code",
   "execution_count": null,
   "metadata": {},
   "outputs": [],
   "source": [
    "import numpy as np \n",
    "import matplotlib.pylab as plt \n",
    "from ml_collections import ConfigDict\n",
    "import scipy.stats \n",
    "from scipy.integrate import simpson\n",
    "from scipy.interpolate import interp1d\n",
    "\n",
    "from getdist import plots, MCSamples\n",
    "import getdist\n",
    "\n",
    "# our scripts\n",
    "from src.cosmo import calculate_pk_fixed_redshift\n",
    "from config import get_config\n",
    "\n",
    "plt.rc('text', usetex=True)\n",
    "plt.rc('font',**{'family':'sans-serif','serif':['Palatino']})\n",
    "figSize  = (12, 8)\n",
    "fontSize = 20\n",
    "\n",
    "settings={'mult_bias_correction_order':0,'smooth_scale_2D':0.3, 'smooth_scale_1D':0.3}\n",
    "contours = [0.68,0.95]\n",
    "linewidth = 2 "
   ]
  },
  {
   "cell_type": "code",
   "execution_count": null,
   "metadata": {},
   "outputs": [],
   "source": [
    "configs = get_config()"
   ]
  },
  {
   "cell_type": "code",
   "execution_count": null,
   "metadata": {},
   "outputs": [],
   "source": [
    "npower = 15 \n",
    "omega_cdm_min = 0.10 \n",
    "omega_cdm_max = 0.25\n",
    "\n",
    "wavenumbers = np.geomspace(configs.grid.kmin, configs.grid.kmax, configs.grid.nk)\n",
    "omega_cdm_grid = np.linspace(omega_cdm_min, omega_cdm_max, npower)\n",
    "cosmo = {'omega_cdm': 0.10, 'omega_b': 0.022, 'S_8': 0.75, 'n_s': 1.0, 'h': 0.75}"
   ]
  },
  {
   "cell_type": "code",
   "execution_count": null,
   "metadata": {},
   "outputs": [],
   "source": [
    "record_pk = list()\n",
    "\n",
    "for i in range(npower):\n",
    "    cosmo['omega_cdm'] = omega_cdm_grid[i]\n",
    "    pk = calculate_pk_fixed_redshift(configs, cosmo, 0)\n",
    "    record_pk.append(pk)"
   ]
  },
  {
   "cell_type": "code",
   "execution_count": null,
   "metadata": {},
   "outputs": [],
   "source": [
    "record_pk = np.asarray(record_pk)"
   ]
  },
  {
   "cell_type": "markdown",
   "metadata": {},
   "source": [
    "## Total Power Spectrum"
   ]
  },
  {
   "cell_type": "code",
   "execution_count": null,
   "metadata": {},
   "outputs": [],
   "source": [
    "nbias = len(configs.bias.fiducial)\n",
    "bias_prod = np.outer(configs.bias.fiducial, configs.bias.fiducial)\n",
    "bias_prod = bias_prod[np.triu_indices(nbias)].reshape(1, -1)\n",
    "total_pk = np.dot(bias_prod, record_pk).reshape(-1)"
   ]
  },
  {
   "cell_type": "code",
   "execution_count": null,
   "metadata": {},
   "outputs": [],
   "source": [
    "plt.figure(figsize = (12, 8))\n",
    "for i in range(npower):\n",
    "    plt.loglog(wavenumbers, record_pk[i], lw = 2)\n",
    "plt.loglog(wavenumbers, total_pk, lw = 3)\n",
    "plt.xlim(configs.grid.kmin, configs.grid.kmax)\n",
    "plt.ylabel(r'$P_{\\delta}(k, z=0)\\;[\\textrm{Mpc}^{3}]$', fontsize = fontSize)\n",
    "plt.xlabel(r'$k\\,[\\textrm{Mpc}^{-1}]$', fontsize = fontSize)\n",
    "plt.tick_params(axis='x', labelsize=fontSize)\n",
    "plt.tick_params(axis='y', labelsize=fontSize)\n",
    "plt.show()"
   ]
  },
  {
   "cell_type": "markdown",
   "metadata": {},
   "source": [
    "## Noisy $P_{\\delta}$"
   ]
  },
  {
   "cell_type": "code",
   "execution_count": null,
   "metadata": {},
   "outputs": [],
   "source": [
    "sigma = np.ones(configs.grid.nk) * total_pk * 0.20\n",
    "noise = np.random.randn(configs.grid.nk) * sigma\n",
    "data = total_pk + noise"
   ]
  },
  {
   "cell_type": "code",
   "execution_count": null,
   "metadata": {},
   "outputs": [],
   "source": [
    "plt.figure(figsize = (12, 8))\n",
    "plt.loglog(wavenumbers, total_pk, lw = 3, label = 'Total Power Spectrum (Fiducial)')\n",
    "plt.errorbar(wavenumbers, data, yerr=sigma, fmt = 'ro', label = 'Noisy Power Spectrum')\n",
    "plt.xlim(configs.grid.kmin, configs.grid.kmax)\n",
    "plt.ylabel(r'$P_{\\delta}(k, z=0)\\;[\\textrm{Mpc}^{3}]$', fontsize = fontSize)\n",
    "plt.xlabel(r'$k\\,[\\textrm{Mpc}^{-1}]$', fontsize = fontSize)\n",
    "plt.tick_params(axis='x', labelsize=fontSize)\n",
    "plt.tick_params(axis='y', labelsize=fontSize)\n",
    "plt.legend(loc = 'best',prop={'family':'sans-serif', 'size':20})\n",
    "plt.show()"
   ]
  },
  {
   "cell_type": "markdown",
   "metadata": {},
   "source": [
    "## Sampling"
   ]
  },
  {
   "cell_type": "code",
   "execution_count": null,
   "metadata": {},
   "outputs": [],
   "source": [
    "def calculate_theory(bias: dict, power_spectra: np.ndarray) -> np.ndarray:\n",
    "    \"\"\"\n",
    "    bias: len(bias) = 5 \n",
    "    power_spectra: shape = 15 x 100\n",
    "    \"\"\"\n",
    "    nbias = len(bias)\n",
    "    bias = list(bias.values())\n",
    "    bias_prod = np.outer(bias, bias)\n",
    "    bias_prod = bias_prod[np.triu_indices(nbias)].reshape(1, -1)\n",
    "    total_pk = np.dot(bias_prod, power_spectra).reshape(-1)\n",
    "    return total_pk"
   ]
  },
  {
   "cell_type": "code",
   "execution_count": null,
   "metadata": {},
   "outputs": [],
   "source": [
    "def calculate_log_likelihood(data: np.ndarray, theory: np.ndarray, sigma: np.ndarray) -> np.ndarray:\n",
    "    diff = (data - theory )/sigma\n",
    "    return -0.5 * np.sum(diff * diff)    "
   ]
  },
  {
   "cell_type": "code",
   "execution_count": null,
   "metadata": {},
   "outputs": [],
   "source": [
    "def generate_bias_prior(config: ConfigDict) -> dict:\n",
    "    \"\"\"Generates the entity of each parameter by using scipy.stats function.\n",
    "    Args:\n",
    "        dictionary (dict): A dictionary with the specifications of the prior.\n",
    "    Returns:\n",
    "        dict: the prior distribution of all parameters.\n",
    "    \"\"\"\n",
    "    dictionary = dict()\n",
    "    for i, key in enumerate(config.bias.names):\n",
    "        specs = (config.bias.loc[i], config.bias.scale[i])\n",
    "        dictionary[key] = getattr(scipy.stats, config.bias.distribution)(*specs)\n",
    "    return dictionary"
   ]
  },
  {
   "cell_type": "code",
   "execution_count": null,
   "metadata": {},
   "outputs": [],
   "source": [
    "# test_bias = np.array([0.9, 1.4, 1.9, 2.4, 2.8])\n",
    "test_bias = dict(zip(configs.bias.names, configs.bias.fiducial))\n",
    "test = calculate_theory(test_bias, record_pk)"
   ]
  },
  {
   "cell_type": "code",
   "execution_count": null,
   "metadata": {},
   "outputs": [],
   "source": [
    "calculate_log_likelihood(data, test, sigma)"
   ]
  },
  {
   "cell_type": "markdown",
   "metadata": {},
   "source": [
    "## Test on a Grid"
   ]
  },
  {
   "cell_type": "code",
   "execution_count": null,
   "metadata": {},
   "outputs": [],
   "source": [
    "def distribution(bias_param: dict, bias_prior, ref = 'b0'):\n",
    "    theory = calculate_theory(bias_param, record_pk)\n",
    "    loglike = calculate_log_likelihood(data, theory, sigma)\n",
    "    logprior = bias_prior[ref].logpdf(bias_param[ref])\n",
    "    return np.exp(loglike + logprior)"
   ]
  },
  {
   "cell_type": "code",
   "execution_count": null,
   "metadata": {},
   "outputs": [],
   "source": [
    "def pdf_cdf(configs, bias_grid: np.ndarray, bias_params, bias_prior, ref = 'b0'):\n",
    "    ngrid = len(bias_grid)\n",
    "    bias_params = bias_params.reshape(1, -1)\n",
    "    bias_repeat = np.repeat(bias_params, ngrid, axis = 0)\n",
    "    idx = configs.bias.names.index(ref)\n",
    "    bias_repeat[:, idx] = bias_grid\n",
    "    \n",
    "    pdfs = list()\n",
    "    for b in bias_repeat:\n",
    "        bparam = dict(zip(configs.bias.names, b))\n",
    "        pdfs.append(distribution(bparam, bias_prior, ref))\n",
    "    \n",
    "    pdf = pdfs/simpson(pdfs, bias_grid)\n",
    "    cdf = np.cumsum(pdf)\n",
    "    cdf /= max(cdf)\n",
    "    return pdf, cdf"
   ]
  },
  {
   "cell_type": "code",
   "execution_count": null,
   "metadata": {},
   "outputs": [],
   "source": [
    "def sample_bias(nsample, configs, bias_grid, bias_params, bias_prior, ref = 'b0'):\n",
    "    u = np.random.uniform(0, 1, nsample)\n",
    "    pdf, cdf = pdf_cdf(configs, bias_grid, bias_params, bias_prior, ref)\n",
    "    func_interp = interp1d(cdf, bias_grid)\n",
    "    samples = func_interp(u)\n",
    "    return samples"
   ]
  },
  {
   "cell_type": "code",
   "execution_count": null,
   "metadata": {},
   "outputs": [],
   "source": [
    "bgrid = np.linspace(0, 5, 1000)\n",
    "bfid = np.array([1.0, 1.5, 2.0, 2.5, 3.0])\n",
    "priors = generate_bias_prior(configs)"
   ]
  },
  {
   "cell_type": "code",
   "execution_count": null,
   "metadata": {},
   "outputs": [],
   "source": [
    "record_bias = dict()\n",
    "for bname in configs.bias.names:\n",
    "    pdf, cdf = pdf_cdf(configs, bgrid, bfid, priors, bname)\n",
    "    samples = sample_bias(10000, configs, bgrid, bfid, priors, bname)\n",
    "    record_bias[bname] = (pdf, cdf, samples)"
   ]
  },
  {
   "cell_type": "code",
   "execution_count": null,
   "metadata": {},
   "outputs": [],
   "source": [
    "for bname in configs.bias.names:\n",
    "    print(f'{bname}: {bgrid[np.argmax(record_bias[bname][0])]:.4f}')"
   ]
  },
  {
   "cell_type": "code",
   "execution_count": null,
   "metadata": {},
   "outputs": [],
   "source": [
    "maxpdf = list()\n",
    "plt.figure(figsize = (12, 8))\n",
    "for bname in configs.bias.names:\n",
    "    pdf, cdf, samples = record_bias[bname]\n",
    "    plt.plot(bgrid, pdf)\n",
    "    plt.hist(samples, density=True, bins=20, alpha = 0.5)\n",
    "    maxpdf.append(np.max(pdf))\n",
    "plt.ylabel(r'$p(b_{\\alpha})$', fontsize = fontSize)\n",
    "plt.xlabel(r'$b_{\\alpha}$', fontsize = fontSize)\n",
    "plt.tick_params(axis='x', labelsize=fontSize)\n",
    "plt.tick_params(axis='y', labelsize=fontSize)\n",
    "plt.ylim(0.0, 1.2 * np.max(maxpdf))\n",
    "plt.xlim(0, 5)\n",
    "plt.show()"
   ]
  },
  {
   "cell_type": "markdown",
   "metadata": {},
   "source": [
    "# Gibbs Sampling"
   ]
  },
  {
   "cell_type": "code",
   "execution_count": null,
   "metadata": {},
   "outputs": [],
   "source": [
    "bgrid = np.linspace(0, 5, 100)\n",
    "bfid = np.array([1.0, 1.5, 2.0, 2.5, 3.0])\n",
    "priors = generate_bias_prior(configs)"
   ]
  },
  {
   "cell_type": "code",
   "execution_count": null,
   "metadata": {},
   "outputs": [],
   "source": [
    "ngibbs = 10000\n",
    "trace = np.zeros((ngibbs, 5))\n",
    "\n",
    "for g in range(ngibbs):\n",
    "    for i, bname in enumerate(configs.bias.names):\n",
    "    \n",
    "        param = sample_bias(1, configs, bgrid, bfid, priors, bname)\n",
    "        bfid[i] = param        \n",
    "    trace[g] = bfid"
   ]
  },
  {
   "cell_type": "markdown",
   "metadata": {},
   "source": [
    "## Triangle Plot"
   ]
  },
  {
   "cell_type": "code",
   "execution_count": null,
   "metadata": {},
   "outputs": [],
   "source": [
    "ndim = 5\n",
    "names = [\"x%s\"%i for i in range(ndim)]\n",
    "labels =  [r\"$b_{0}$\", r\"$b_{1}$\", r\"$b_{2}$\", r\"$b_{s}$\", r\"$b_{\\nabla}$\"]\n",
    "samples = MCSamples(samples=trace,names = names, labels = labels, settings = settings)"
   ]
  },
  {
   "cell_type": "code",
   "execution_count": null,
   "metadata": {},
   "outputs": [],
   "source": [
    "G = plots.getSubplotPlotter(subplot_size=2)\n",
    "samples.updateSettings({'contours': contours})\n",
    "G.triangle_plot(samples, filled = True, line_args={'lw':linewidth, 'color':'blue'}, contour_colors=['blue'])\n",
    "G.settings.num_plot_contours = 2\n",
    "G.settings.solid_contour_palefactor = 0.5\n",
    "G.settings.alpha_filled_add = 0.2\n",
    "\n",
    "for i in range(0,5):\n",
    "    for j in range(0, i+1):\n",
    "        if i != j:\n",
    "            ax = G.subplots[i,j]\n",
    "            \n",
    "            a, b = G.get_param_array(samples, ['x'+str(j), 'x'+str(i)])\n",
    "            density = G.sample_analyser.get_density_grid(samples, a, b)\n",
    "            density.contours = density.getContourLevels(contours)\n",
    "            contour_levels = density.contours\n",
    "            \n",
    "            ax.contour(density.x, density.y, density.P, sorted(contour_levels), colors = 'blue', linewidths = linewidth) \n",
    "            ax.tick_params(axis = 'x', labelsize = fontSize, rotation=45, pad=5)\n",
    "            ax.tick_params(axis = 'y', labelsize = fontSize, pad=5)\n",
    "            ax.yaxis.label.set_size(fontSize)\n",
    "            ax.xaxis.label.set_size(fontSize)\n",
    "            ax.xaxis.labelpad = 20\n",
    "            ax.yaxis.labelpad = 20\n",
    "        else:\n",
    "            ax = G.subplots[i,j]   \n",
    "            \n",
    "            dense = samples.get1DDensity('x'+str(i))\n",
    "            dense.normalize(by='max')\n",
    "            ax.plot(dense.x, dense.P, lw = linewidth, c = 'blue')\n",
    "            \n",
    "            ax.tick_params(axis = 'x', labelsize = fontSize, rotation=45, pad=5)\n",
    "            ax.tick_params(axis = 'y', labelsize = fontSize, pad=5)\n",
    "            ax.yaxis.label.set_size(fontSize)\n",
    "            ax.xaxis.label.set_size(fontSize)\n",
    "            ax.xaxis.labelpad = 20\n",
    "            ax.yaxis.labelpad = 20\n",
    "plt.show()"
   ]
  },
  {
   "cell_type": "markdown",
   "metadata": {},
   "source": [
    "## Experiment: Kernel Interpolation"
   ]
  },
  {
   "cell_type": "code",
   "execution_count": 1,
   "metadata": {},
   "outputs": [],
   "source": [
    "import torch\n",
    "import matplotlib.pylab as plt \n",
    "\n",
    "# our script and functions \n",
    "from src.interpolation import KernelInterpolation \n",
    "\n",
    "plt.rc('text', usetex=True)\n",
    "plt.rc('font',**{'family':'sans-serif','serif':['Palatino']})\n",
    "fontSize = 20"
   ]
  },
  {
   "cell_type": "code",
   "execution_count": 2,
   "metadata": {},
   "outputs": [],
   "source": [
    "xmin = 0.0 \n",
    "xmax = 2.0 * torch.pi \n",
    "ndata = 25\n",
    "Ndata = 500\n",
    "x = torch.linspace(xmin, xmax, ndata)\n",
    "xnew = torch.linspace(xmin, xmax, Ndata)\n",
    "y = torch.sin(x)"
   ]
  },
  {
   "cell_type": "code",
   "execution_count": 3,
   "metadata": {},
   "outputs": [],
   "source": [
    "interp = KernelInterpolation(x, y, hyperparam=1.0)\n",
    "ynew = interp.predict(xnew)"
   ]
  },
  {
   "cell_type": "code",
   "execution_count": 4,
   "metadata": {},
   "outputs": [
    {
     "data": {
      "image/png": "[encoded data removed]",
      "text/plain": [
       "<Figure size 864x576 with 1 Axes>"
      ]
     },
     "metadata": {
      "needs_background": "light"
     },
     "output_type": "display_data"
    }
   ],
   "source": [
    "plt.figure(figsize = (12, 8))\n",
    "plt.scatter(x, y, label = 'Data')\n",
    "plt.plot(xnew, ynew, lw = 2, label = 'Predictions')\n",
    "plt.ylabel(r'$f(x)$', fontsize = fontSize)\n",
    "plt.xlabel(r'$x$', fontsize = fontSize)\n",
    "plt.tick_params(axis='x', labelsize=fontSize)\n",
    "plt.tick_params(axis='y', labelsize=fontSize)\n",
    "plt.xlim(xmin, xmax)\n",
    "plt.legend(loc = 'best',prop={'family':'sans-serif', 'size':15})\n",
    "plt.show()"
   ]
  },
  {
   "cell_type": "code",
   "execution_count": null,
   "metadata": {},
   "outputs": [],
   "source": []
  }
 ],
 "metadata": {
  "kernelspec": {
   "display_name": "Python 3",
   "language": "python",
   "name": "python3"
  },
  "language_info": {
   "codemirror_mode": {
    "name": "ipython",
    "version": 3
   },
   "file_extension": ".py",
   "mimetype": "text/x-python",
   "name": "python",
   "nbconvert_exporter": "python",
   "pygments_lexer": "ipython3",
   "version": "3.7.6"
  }
 },
 "nbformat": 4,
 "nbformat_minor": 5
}
