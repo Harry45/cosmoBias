{
 "cells": [
  {
   "cell_type": "code",
   "execution_count": null,
   "metadata": {},
   "outputs": [],
   "source": [
    "import numpy as np \n",
    "import matplotlib.pylab as plt \n",
    "from ml_collections import ConfigDict\n",
    "import scipy.stats \n",
    "from scipy.integrate import simpson\n",
    "from scipy.interpolate import interp1d\n",
    "\n",
    "from getdist import plots, MCSamples\n",
    "import getdist\n",
    "\n",
    "# our scripts\n",
    "from src.cosmo import calculate_pk_fixed_redshift\n",
    "from config import get_config\n",
    "\n",
    "plt.rc('text', usetex=True)\n",
    "plt.rc('font',**{'family':'sans-serif','serif':['Palatino']})\n",
    "figSize  = (12, 8)\n",
    "fontSize = 20\n",
    "\n",
    "settings={'mult_bias_correction_order':0,'smooth_scale_2D':0.3, 'smooth_scale_1D':0.3}\n",
    "contours = [0.68,0.95]\n",
    "linewidth = 2 "
   ]
  },
  {
   "cell_type": "code",
   "execution_count": null,
   "metadata": {},
   "outputs": [],
   "source": [
    "configs = get_config()"
   ]
  },
  {
   "cell_type": "code",
   "execution_count": null,
   "metadata": {},
   "outputs": [],
   "source": [
    "npower = 15 \n",
    "omega_cdm_min = 0.10 \n",
    "omega_cdm_max = 0.25\n",
    "\n",
    "wavenumbers = np.geomspace(configs.grid.kmin, configs.grid.kmax, configs.grid.nk)\n",
    "omega_cdm_grid = np.linspace(omega_cdm_min, omega_cdm_max, npower)\n",
    "cosmo = {'omega_cdm': 0.10, 'omega_b': 0.022, 'S_8': 0.75, 'n_s': 1.0, 'h': 0.75}"
   ]
  },
  {
   "cell_type": "code",
   "execution_count": null,
   "metadata": {},
   "outputs": [],
   "source": [
    "record_pk = list()\n",
    "\n",
    "for i in range(npower):\n",
    "    cosmo['omega_cdm'] = omega_cdm_grid[i]\n",
    "    pk = calculate_pk_fixed_redshift(configs, cosmo, 0)\n",
    "    record_pk.append(pk)"
   ]
  },
  {
   "cell_type": "code",
   "execution_count": null,
   "metadata": {},
   "outputs": [],
   "source": [
    "record_pk = np.asarray(record_pk)"
   ]
  },
  {
   "cell_type": "markdown",
   "metadata": {},
   "source": [
    "## Total Power Spectrum"
   ]
  },
  {
   "cell_type": "code",
   "execution_count": null,
   "metadata": {},
   "outputs": [],
   "source": [
    "nbias = len(configs.bias.fiducial)\n",
    "bias_prod = np.outer(configs.bias.fiducial, configs.bias.fiducial)\n",
    "bias_prod = bias_prod[np.triu_indices(nbias)].reshape(1, -1)\n",
    "total_pk = np.dot(bias_prod, record_pk).reshape(-1)"
   ]
  },
  {
   "cell_type": "code",
   "execution_count": null,
   "metadata": {},
   "outputs": [],
   "source": [
    "plt.figure(figsize = (12, 8))\n",
    "for i in range(npower):\n",
    "    plt.loglog(wavenumbers, record_pk[i], lw = 2)\n",
    "plt.loglog(wavenumbers, total_pk, lw = 3)\n",
    "plt.xlim(configs.grid.kmin, configs.grid.kmax)\n",
    "plt.ylabel(r'$P_{\\delta}(k, z=0)\\;[\\textrm{Mpc}^{3}]$', fontsize = fontSize)\n",
    "plt.xlabel(r'$k\\,[\\textrm{Mpc}^{-1}]$', fontsize = fontSize)\n",
    "plt.tick_params(axis='x', labelsize=fontSize)\n",
    "plt.tick_params(axis='y', labelsize=fontSize)\n",
    "plt.show()"
   ]
  },
  {
   "cell_type": "markdown",
   "metadata": {},
   "source": [
    "## Noisy $P_{\\delta}$"
   ]
  },
  {
   "cell_type": "code",
   "execution_count": null,
   "metadata": {},
   "outputs": [],
   "source": [
    "sigma = np.ones(configs.grid.nk) * total_pk * 0.20\n",
    "noise = np.random.randn(configs.grid.nk) * sigma\n",
    "data = total_pk + noise"
   ]
  },
  {
   "cell_type": "code",
   "execution_count": null,
   "metadata": {},
   "outputs": [],
   "source": [
    "plt.figure(figsize = (12, 8))\n",
    "plt.loglog(wavenumbers, total_pk, lw = 3, label = 'Total Power Spectrum (Fiducial)')\n",
    "plt.errorbar(wavenumbers, data, yerr=sigma, fmt = 'ro', label = 'Noisy Power Spectrum')\n",
    "plt.xlim(configs.grid.kmin, configs.grid.kmax)\n",
    "plt.ylabel(r'$P_{\\delta}(k, z=0)\\;[\\textrm{Mpc}^{3}]$', fontsize = fontSize)\n",
    "plt.xlabel(r'$k\\,[\\textrm{Mpc}^{-1}]$', fontsize = fontSize)\n",
    "plt.tick_params(axis='x', labelsize=fontSize)\n",
    "plt.tick_params(axis='y', labelsize=fontSize)\n",
    "plt.legend(loc = 'best',prop={'family':'sans-serif', 'size':20})\n",
    "plt.show()"
   ]
  },
  {
   "cell_type": "markdown",
   "metadata": {},
   "source": [
    "## Sampling"
   ]
  },
  {
   "cell_type": "code",
   "execution_count": null,
   "metadata": {},
   "outputs": [],
   "source": [
    "def calculate_theory(bias: dict, power_spectra: np.ndarray) -> np.ndarray:\n",
    "    \"\"\"\n",
    "    bias: len(bias) = 5 \n",
    "    power_spectra: shape = 15 x 100\n",
    "    \"\"\"\n",
    "    nbias = len(bias)\n",
    "    bias = list(bias.values())\n",
    "    bias_prod = np.outer(bias, bias)\n",
    "    bias_prod = bias_prod[np.triu_indices(nbias)].reshape(1, -1)\n",
    "    total_pk = np.dot(bias_prod, power_spectra).reshape(-1)\n",
    "    return total_pk"
   ]
  },
  {
   "cell_type": "code",
   "execution_count": null,
   "metadata": {},
   "outputs": [],
   "source": [
    "def calculate_log_likelihood(data: np.ndarray, theory: np.ndarray, sigma: np.ndarray) -> np.ndarray:\n",
    "    diff = (data - theory )/sigma\n",
    "    return -0.5 * np.sum(diff * diff)    "
   ]
  },
  {
   "cell_type": "code",
   "execution_count": null,
   "metadata": {},
   "outputs": [],
   "source": [
    "def generate_bias_prior(config: ConfigDict) -> dict:\n",
    "    \"\"\"Generates the entity of each parameter by using scipy.stats function.\n",
    "    Args:\n",
    "        dictionary (dict): A dictionary with the specifications of the prior.\n",
    "    Returns:\n",
    "        dict: the prior distribution of all parameters.\n",
    "    \"\"\"\n",
    "    dictionary = dict()\n",
    "    for i, key in enumerate(config.bias.names):\n",
    "        specs = (config.bias.loc[i], config.bias.scale[i])\n",
    "        dictionary[key] = getattr(scipy.stats, config.bias.distribution)(*specs)\n",
    "    return dictionary"
   ]
  },
  {
   "cell_type": "code",
   "execution_count": null,
   "metadata": {},
   "outputs": [],
   "source": [
    "# test_bias = np.array([0.9, 1.4, 1.9, 2.4, 2.8])\n",
    "test_bias = dict(zip(configs.bias.names, configs.bias.fiducial))\n",
    "test = calculate_theory(test_bias, record_pk)"
   ]
  },
  {
   "cell_type": "code",
   "execution_count": null,
   "metadata": {},
   "outputs": [],
   "source": [
    "calculate_log_likelihood(data, test, sigma)"
   ]
  },
  {
   "cell_type": "markdown",
   "metadata": {},
   "source": [
    "## Test on a Grid"
   ]
  },
  {
   "cell_type": "code",
   "execution_count": null,
   "metadata": {},
   "outputs": [],
   "source": [
    "def distribution(bias_param: dict, bias_prior, ref = 'b0'):\n",
    "    theory = calculate_theory(bias_param, record_pk)\n",
    "    loglike = calculate_log_likelihood(data, theory, sigma)\n",
    "    logprior = bias_prior[ref].logpdf(bias_param[ref])\n",
    "    return np.exp(loglike + logprior)"
   ]
  },
  {
   "cell_type": "code",
   "execution_count": null,
   "metadata": {},
   "outputs": [],
   "source": [
    "def pdf_cdf(configs, bias_grid: np.ndarray, bias_params, bias_prior, ref = 'b0'):\n",
    "    ngrid = len(bias_grid)\n",
    "    bias_params = bias_params.reshape(1, -1)\n",
    "    bias_repeat = np.repeat(bias_params, ngrid, axis = 0)\n",
    "    idx = configs.bias.names.index(ref)\n",
    "    bias_repeat[:, idx] = bias_grid\n",
    "    \n",
    "    pdfs = list()\n",
    "    for b in bias_repeat:\n",
    "        bparam = dict(zip(configs.bias.names, b))\n",
    "        pdfs.append(distribution(bparam, bias_prior, ref))\n",
    "    \n",
    "    pdf = pdfs/simpson(pdfs, bias_grid)\n",
    "    cdf = np.cumsum(pdf)\n",
    "    cdf /= max(cdf)\n",
    "    return pdf, cdf"
   ]
  },
  {
   "cell_type": "code",
   "execution_count": null,
   "metadata": {},
   "outputs": [],
   "source": [
    "def sample_bias(nsample, configs, bias_grid, bias_params, bias_prior, ref = 'b0'):\n",
    "    u = np.random.uniform(0, 1, nsample)\n",
    "    pdf, cdf = pdf_cdf(configs, bias_grid, bias_params, bias_prior, ref)\n",
    "    func_interp = interp1d(cdf, bias_grid)\n",
    "    samples = func_interp(u)\n",
    "    return samples"
   ]
  },
  {
   "cell_type": "code",
   "execution_count": null,
   "metadata": {},
   "outputs": [],
   "source": [
    "bgrid = np.linspace(0, 5, 1000)\n",
    "bfid = np.array([1.0, 1.5, 2.0, 2.5, 3.0])\n",
    "priors = generate_bias_prior(configs)"
   ]
  },
  {
   "cell_type": "code",
   "execution_count": null,
   "metadata": {},
   "outputs": [],
   "source": [
    "record_bias = dict()\n",
    "for bname in configs.bias.names:\n",
    "    pdf, cdf = pdf_cdf(configs, bgrid, bfid, priors, bname)\n",
    "    samples = sample_bias(10000, configs, bgrid, bfid, priors, bname)\n",
    "    record_bias[bname] = (pdf, cdf, samples)"
   ]
  },
  {
   "cell_type": "code",
   "execution_count": null,
   "metadata": {},
   "outputs": [],
   "source": [
    "for bname in configs.bias.names:\n",
    "    print(f'{bname}: {bgrid[np.argmax(record_bias[bname][0])]:.4f}')"
   ]
  },
  {
   "cell_type": "code",
   "execution_count": null,
   "metadata": {},
   "outputs": [],
   "source": [
    "maxpdf = list()\n",
    "plt.figure(figsize = (12, 8))\n",
    "for bname in configs.bias.names:\n",
    "    pdf, cdf, samples = record_bias[bname]\n",
    "    plt.plot(bgrid, pdf)\n",
    "    plt.hist(samples, density=True, bins=20, alpha = 0.5)\n",
    "    maxpdf.append(np.max(pdf))\n",
    "plt.ylabel(r'$p(b_{\\alpha})$', fontsize = fontSize)\n",
    "plt.xlabel(r'$b_{\\alpha}$', fontsize = fontSize)\n",
    "plt.tick_params(axis='x', labelsize=fontSize)\n",
    "plt.tick_params(axis='y', labelsize=fontSize)\n",
    "plt.ylim(0.0, 1.2 * np.max(maxpdf))\n",
    "plt.xlim(0, 5)\n",
    "plt.show()"
   ]
  },
  {
   "cell_type": "markdown",
   "metadata": {},
   "source": [
    "# Gibbs Sampling"
   ]
  },
  {
   "cell_type": "code",
   "execution_count": null,
   "metadata": {},
   "outputs": [],
   "source": [
    "bgrid = np.linspace(0, 5, 100)\n",
    "bfid = np.array([1.0, 1.5, 2.0, 2.5, 3.0])\n",
    "priors = generate_bias_prior(configs)"
   ]
  },
  {
   "cell_type": "code",
   "execution_count": null,
   "metadata": {},
   "outputs": [],
   "source": [
    "ngibbs = 10000\n",
    "trace = np.zeros((ngibbs, 5))\n",
    "\n",
    "for g in range(ngibbs):\n",
    "    for i, bname in enumerate(configs.bias.names):\n",
    "    \n",
    "        param = sample_bias(1, configs, bgrid, bfid, priors, bname)\n",
    "        bfid[i] = param        \n",
    "    trace[g] = bfid"
   ]
  },
  {
   "cell_type": "markdown",
   "metadata": {},
   "source": [
    "## Triangle Plot"
   ]
  },
  {
   "cell_type": "code",
   "execution_count": null,
   "metadata": {},
   "outputs": [],
   "source": [
    "ndim = 5\n",
    "names = [\"x%s\"%i for i in range(ndim)]\n",
    "labels =  [r\"$b_{0}$\", r\"$b_{1}$\", r\"$b_{2}$\", r\"$b_{s}$\", r\"$b_{\\nabla}$\"]\n",
    "samples = MCSamples(samples=trace,names = names, labels = labels, settings = settings)"
   ]
  },
  {
   "cell_type": "code",
   "execution_count": null,
   "metadata": {},
   "outputs": [],
   "source": [
    "G = plots.getSubplotPlotter(subplot_size=2)\n",
    "samples.updateSettings({'contours': contours})\n",
    "G.triangle_plot(samples, filled = True, line_args={'lw':linewidth, 'color':'blue'}, contour_colors=['blue'])\n",
    "G.settings.num_plot_contours = 2\n",
    "G.settings.solid_contour_palefactor = 0.5\n",
    "G.settings.alpha_filled_add = 0.2\n",
    "\n",
    "for i in range(0,5):\n",
    "    for j in range(0, i+1):\n",
    "        if i != j:\n",
    "            ax = G.subplots[i,j]\n",
    "            \n",
    "            a, b = G.get_param_array(samples, ['x'+str(j), 'x'+str(i)])\n",
    "            density = G.sample_analyser.get_density_grid(samples, a, b)\n",
    "            density.contours = density.getContourLevels(contours)\n",
    "            contour_levels = density.contours\n",
    "            \n",
    "            ax.contour(density.x, density.y, density.P, sorted(contour_levels), colors = 'blue', linewidths = linewidth) \n",
    "            ax.tick_params(axis = 'x', labelsize = fontSize, rotation=45, pad=5)\n",
    "            ax.tick_params(axis = 'y', labelsize = fontSize, pad=5)\n",
    "            ax.yaxis.label.set_size(fontSize)\n",
    "            ax.xaxis.label.set_size(fontSize)\n",
    "            ax.xaxis.labelpad = 20\n",
    "            ax.yaxis.labelpad = 20\n",
    "        else:\n",
    "            ax = G.subplots[i,j]   \n",
    "            \n",
    "            dense = samples.get1DDensity('x'+str(i))\n",
    "            dense.normalize(by='max')\n",
    "            ax.plot(dense.x, dense.P, lw = linewidth, c = 'blue')\n",
    "            \n",
    "            ax.tick_params(axis = 'x', labelsize = fontSize, rotation=45, pad=5)\n",
    "            ax.tick_params(axis = 'y', labelsize = fontSize, pad=5)\n",
    "            ax.yaxis.label.set_size(fontSize)\n",
    "            ax.xaxis.label.set_size(fontSize)\n",
    "            ax.xaxis.labelpad = 20\n",
    "            ax.yaxis.labelpad = 20\n",
    "plt.show()"
   ]
  },
  {
   "cell_type": "markdown",
   "metadata": {},
   "source": [
    "## Experiment: Kernel Interpolation"
   ]
  },
  {
   "cell_type": "code",
   "execution_count": 1,
   "metadata": {},
   "outputs": [],
   "source": [
    "import torch\n",
    "import matplotlib.pylab as plt \n",
    "\n",
    "# our script and functions \n",
    "from utils.interpolation import KernelInterpolation \n",
    "\n",
    "plt.rc('text', usetex=True)\n",
    "plt.rc('font',**{'family':'sans-serif','serif':['Palatino']})\n",
    "fontSize = 20"
   ]
  },
  {
   "cell_type": "code",
   "execution_count": 2,
   "metadata": {},
   "outputs": [],
   "source": [
    "xmin = 0.0 \n",
    "xmax = 2.0 * torch.pi \n",
    "ndata = 25\n",
    "Ndata = 500\n",
    "x = torch.linspace(xmin, xmax, ndata)\n",
    "xnew = torch.linspace(xmin, xmax, Ndata)\n",
    "y = torch.sin(x)"
   ]
  },
  {
   "cell_type": "code",
   "execution_count": 3,
   "metadata": {},
   "outputs": [],
   "source": [
    "interp = KernelInterpolation(x, y, hyperparam=1.0)\n",
    "ynew = interp.predict(xnew)"
   ]
  },
  {
   "cell_type": "code",
   "execution_count": 4,
   "metadata": {},
   "outputs": [
    {
     "data": {
      "image/png": "[encoded data removed]",
      "text/plain": [
       "<Figure size 864x576 with 1 Axes>"
      ]
     },
     "metadata": {
      "needs_background": "light"
     },
     "output_type": "display_data"
    }
   ],
   "source": [
    "plt.figure(figsize = (12, 8))\n",
    "plt.scatter(x, y, label = 'Data')\n",
    "plt.plot(xnew, ynew, lw = 2, label = 'Predictions')\n",
    "plt.ylabel(r'$f(x)$', fontsize = fontSize)\n",
    "plt.xlabel(r'$x$', fontsize = fontSize)\n",
    "plt.tick_params(axis='x', labelsize=fontSize)\n",
    "plt.tick_params(axis='y', labelsize=fontSize)\n",
    "plt.xlim(xmin, xmax)\n",
    "plt.legend(loc = 'best',prop={'family':'sans-serif', 'size':15})\n",
    "plt.show()"
   ]
  },
  {
   "cell_type": "markdown",
   "metadata": {},
   "source": [
    "## Test Training Set "
   ]
  },
  {
   "cell_type": "code",
   "execution_count": 10,
   "metadata": {},
   "outputs": [],
   "source": [
    "import torch\n",
    "import numpy as np\n",
    "import matplotlib.pylab as plt \n",
    "import pandas as pd \n",
    "from typing import Tuple\n",
    "from ml_collections import ConfigDict\n",
    "\n",
    "from config import get_config\n",
    "from src.cosmology.cosmo import calculate_pk_fixed_redshift\n",
    "from trainingpoints import scale_lhs\n",
    "import utils.helpers as hp\n",
    "from utils.interpolation import KernelInterpolation\n",
    "\n",
    "plt.rc('text', usetex=True)\n",
    "plt.rc('font',**{'family':'sans-serif','serif':['Palatino']})\n",
    "fontSize = 20"
   ]
  },
  {
   "cell_type": "code",
   "execution_count": 11,
   "metadata": {},
   "outputs": [],
   "source": [
    "cosmo = {'omega_cdm':0.12, 'omega_b':0.02, 'S_8':0.8, 'n_s':1.0, 'h':0.7}\n",
    "# 1454.6482\n",
    "redshift = 0.0"
   ]
  },
  {
   "cell_type": "code",
   "execution_count": 13,
   "metadata": {},
   "outputs": [],
   "source": [
    "config = get_config()\n",
    "fname = 'lhs_1000'"
   ]
  },
  {
   "cell_type": "code",
   "execution_count": 16,
   "metadata": {},
   "outputs": [
    {
     "data": {
      "text/plain": [
       "array([1.50393170e+03, 1.98403137e+03, 2.61666643e+03, 3.44939819e+03,\n",
       "       4.54355538e+03, 5.97708787e+03, 7.84697766e+03, 1.02701779e+04,\n",
       "       1.33812579e+04, 1.73239547e+04, 2.22346025e+04, 2.82087486e+04,\n",
       "       3.52464594e+04, 4.31751760e+04, 5.15459554e+04, 5.95305373e+04,\n",
       "       6.58084767e+04, 6.85869829e+04, 6.60305144e+04, 5.75759378e+04,\n",
       "       4.58887660e+04, 3.62906684e+04, 3.01367292e+04, 2.13972188e+04,\n",
       "       1.48933272e+04, 1.03986591e+04, 7.34264179e+03, 4.97933491e+03,\n",
       "       3.44554230e+03, 2.51009207e+03, 1.90042442e+03, 1.47907689e+03,\n",
       "       1.15165774e+03, 8.71729280e+02, 6.29007182e+02, 4.30444808e+02,\n",
       "       2.80930680e+02, 1.76372932e+02, 1.07360767e+02, 6.36948267e+01])"
      ]
     },
     "execution_count": 16,
     "metadata": {},
     "output_type": "execute_result"
    }
   ],
   "source": [
    "calculate_pk_fixed_redshift(config, cosmo, redshift)"
   ]
  },
  {
   "cell_type": "code",
   "execution_count": 3,
   "metadata": {},
   "outputs": [],
   "source": [
    "def pk_training_set(fname: str, config: ConfigDict, redshift: float = 0.0) -> Tuple[list, np.ndarray]:\n",
    "    \"\"\"Generates the training set for building the emulator.\n",
    "\n",
    "    Args:\n",
    "        fname (str): name of the LHS file.\n",
    "        config (ConfigDict): the main configuration file with all settings.\n",
    "        redshift (float, optional): the redshift at which the power spectrum is calculated. Defaults to 0.0.\n",
    "\n",
    "    Returns:\n",
    "        Tuple[list, np.ndarray]: the cosmologies and the power spectra\n",
    "    \"\"\"\n",
    "    logger.info('Generating training points.')\n",
    "    cosmologies = scale_lhs(config, fname, save=True)\n",
    "    pk_record = list()\n",
    "    for i, cosmo in enumerate(cosmologies[0:10]):\n",
    "        print(i, cosmo)\n",
    "        pk_calc = calculate_pk_fixed_redshift(config, cosmo, redshift)\n",
    "        pk_record.append(pk_calc)\n",
    "\n",
    "    pk_record = np.asarray(pk_record)\n",
    "    if config.boolean.linearpk:\n",
    "        filename = 'pk_lin_' + fname\n",
    "    else:\n",
    "        filename = 'pk_non_' + fname\n",
    "    hp.save_pkl(pk_record, \"data\", filename)\n",
    "    return cosmologies, pk_record\n"
   ]
  },
  {
   "cell_type": "code",
   "execution_count": 4,
   "metadata": {},
   "outputs": [
    {
     "name": "stdout",
     "output_type": "stream",
     "text": [
      "0 {'omega_cdm': 0.134518, 'omega_b': 0.023949, 'S_8': 0.650139, 'n_s': 1.021041, 'h': 0.709579}\n",
      "1 {'omega_cdm': 0.132537, 'omega_b': 0.021998, 'S_8': 1.115088, 'n_s': 0.913569, 'h': 0.697035}\n",
      "2 {'omega_cdm': 0.10486, 'omega_b': 0.024739, 'S_8': 0.416128, 'n_s': 1.040089, 'h': 0.673051}\n",
      "3 {'omega_cdm': 0.115297, 'omega_b': 0.025072, 'S_8': 0.318863, 'n_s': 0.910296, 'h': 0.78674}\n",
      "4 {'omega_cdm': 0.204829, 'omega_b': 0.022295, 'S_8': 0.299814, 'n_s': 0.929285, 'h': 0.758575}\n",
      "5 {'omega_cdm': 0.151178, 'omega_b': 0.023621, 'S_8': 0.51047, 'n_s': 0.997754, 'h': 0.73813}\n",
      "6 {'omega_cdm': 0.215621, 'omega_b': 0.020408, 'S_8': 0.364479, 'n_s': 0.888963, 'h': 0.744773}\n",
      "7 {'omega_cdm': 0.226004, 'omega_b': 0.02256, 'S_8': 0.740508, 'n_s': 0.956783, 'h': 0.678162}\n",
      "8 {'omega_cdm': 0.217632, 'omega_b': 0.024607, 'S_8': 0.61376, 'n_s': 1.058074, 'h': 0.720435}\n",
      "9 {'omega_cdm': 0.083149, 'omega_b': 0.020733, 'S_8': 1.034365, 'n_s': 1.026976, 'h': 0.749305}\n"
     ]
    }
   ],
   "source": [
    "cosmo, pk = pk_training_set(fname, config, 0.0)"
   ]
  },
  {
   "cell_type": "code",
   "execution_count": 15,
   "metadata": {},
   "outputs": [],
   "source": [
    "x = np.geomspace(config.grid.kmin, config.grid.kmax, config.grid.nk)\n",
    "x = torch.from_numpy(x)\n",
    "x = torch.log(x)\n",
    "\n",
    "xnew = np.geomspace(config.grid.kmin, config.grid.kmax, 1000)\n",
    "xnew = torch.from_numpy(xnew)\n",
    "xnew = torch.log(xnew)\n",
    "\n",
    "y = torch.log(pk[0])"
   ]
  },
  {
   "cell_type": "code",
   "execution_count": 16,
   "metadata": {},
   "outputs": [],
   "source": [
    "interp = KernelInterpolation(x, y, hyperparam=1.0)\n",
    "ynew = interp.predict(xnew)"
   ]
  },
  {
   "cell_type": "code",
   "execution_count": 17,
   "metadata": {},
   "outputs": [
    {
     "data": {
      "image/png": "[encoded data removed]",
      "text/plain": [
       "<Figure size 864x576 with 1 Axes>"
      ]
     },
     "metadata": {
      "needs_background": "light"
     },
     "output_type": "display_data"
    }
   ],
   "source": [
    "plt.figure(figsize = (12, 8))\n",
    "plt.scatter(x, y, label = 'Data')\n",
    "plt.plot(xnew, ynew, label = 'Predictions')\n",
    "plt.ylabel(r'$f(x)$', fontsize = fontSize)\n",
    "plt.xlabel(r'$x$', fontsize = fontSize)\n",
    "plt.tick_params(axis='x', labelsize=fontSize)\n",
    "plt.tick_params(axis='y', labelsize=fontSize)\n",
    "# plt.xlim(xmin, xmax)\n",
    "plt.legend(loc = 'best',prop={'family':'sans-serif', 'size':15})\n",
    "plt.show()"
   ]
  },
  {
   "cell_type": "markdown",
   "metadata": {},
   "source": [
    "# Train GPs "
   ]
  },
  {
   "cell_type": "code",
   "execution_count": 11,
   "metadata": {},
   "outputs": [],
   "source": [
    "from src.emulator.training import train_gps\n",
    "from config import get_config\n",
    "import torch\n",
    "import matplotlib.pylab as plt \n",
    "\n",
    "plt.rc('text', usetex=True)\n",
    "plt.rc('font',**{'family':'sans-serif','serif':['Palatino']})\n",
    "fontSize = 20"
   ]
  },
  {
   "cell_type": "code",
   "execution_count": 2,
   "metadata": {},
   "outputs": [],
   "source": [
    "cfg = get_config()"
   ]
  },
  {
   "cell_type": "code",
   "execution_count": 3,
   "metadata": {},
   "outputs": [],
   "source": [
    "gps = train_gps(cfg)\n",
    "gp = gps[0] # looking into first GP only"
   ]
  },
  {
   "cell_type": "code",
   "execution_count": 14,
   "metadata": {},
   "outputs": [
    {
     "data": {
      "image/png": "[encoded data removed]",
      "text/plain": [
       "<Figure size 576x576 with 1 Axes>"
      ]
     },
     "metadata": {
      "needs_background": "light"
     },
     "output_type": "display_data"
    }
   ],
   "source": [
    "plt.figure(figsize = (8,8))\n",
    "plt.plot(range(cfg.emu.niter + 1), gp.d_opt['loss'])\n",
    "plt.xlim(0, cfg.emu.niter + 1)\n",
    "plt.xlabel(\"Iterations\", fontsize=fontSize)\n",
    "plt.ylabel(\"Loss\", fontsize=fontSize)\n",
    "plt.tick_params(axis=\"x\", labelsize=fontSize)\n",
    "plt.tick_params(axis=\"y\", labelsize=fontSize)\n",
    "plt.show()"
   ]
  },
  {
   "cell_type": "markdown",
   "metadata": {},
   "source": [
    "### Test Prediction"
   ]
  },
  {
   "cell_type": "code",
   "execution_count": 6,
   "metadata": {},
   "outputs": [
    {
     "data": {
      "text/plain": [
       "tensor([[1504.1843]], dtype=torch.float64)"
      ]
     },
     "execution_count": 6,
     "metadata": {},
     "output_type": "execute_result"
    }
   ],
   "source": [
    "testpoint = torch.tensor([0.12, 0.02, 0.8, 1.0, 0.7])\n",
    "gp.prediction(testpoint) # 1.50393170e+03"
   ]
  },
  {
   "cell_type": "code",
   "execution_count": 7,
   "metadata": {},
   "outputs": [
    {
     "data": {
      "text/plain": [
       "tensor([-43119.9570,  -2997.8433,   3733.7258, -10556.2461,   1257.1094])"
      ]
     },
     "execution_count": 7,
     "metadata": {},
     "output_type": "execute_result"
    }
   ],
   "source": [
    "gp.derivatives(testpoint)"
   ]
  },
  {
   "cell_type": "code",
   "execution_count": null,
   "metadata": {},
   "outputs": [],
   "source": []
  }
 ],
 "metadata": {
  "kernelspec": {
   "display_name": "Python 3",
   "language": "python",
   "name": "python3"
  },
  "language_info": {
   "codemirror_mode": {
    "name": "ipython",
    "version": 3
   },
   "file_extension": ".py",
   "mimetype": "text/x-python",
   "name": "python",
   "nbconvert_exporter": "python",
   "pygments_lexer": "ipython3",
   "version": "3.7.6"
  }
 },
 "nbformat": 4,
 "nbformat_minor": 5
}
